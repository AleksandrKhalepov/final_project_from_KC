{
 "cells": [
  {
   "cell_type": "markdown",
   "metadata": {},
   "source": [
    "# Финальный Проект Курса \"Аналитик Данных\"  от Karpov courses\n"
   ]
  },
  {
   "cell_type": "markdown",
   "metadata": {},
   "source": [
    "# Вариант 1"
   ]
  },
  {
   "cell_type": "markdown",
   "metadata": {},
   "source": [
    "# Задание 1"
   ]
  },
  {
   "cell_type": "code",
   "execution_count": 3,
   "metadata": {},
   "outputs": [],
   "source": [
    "import pandas as pd\n",
    "import numpy as np\n",
    "from scipy.stats import chi2_contingency\n",
    "import pingouin\n",
    "import matplotlib.pyplot as plt\n",
    "import seaborn as sns\n",
    "%matplotlib inline\n"
   ]
  },
  {
   "cell_type": "code",
   "execution_count": 4,
   "metadata": {},
   "outputs": [],
   "source": [
    "# считаем наши датафреймы и проведем предобработку \n",
    "reg_path = '/mnt/HC_Volume_18315164/home-jupyter/jupyter-aleksandr-halepov--ed929/shared/problem1-reg_data.csv'\n",
    "reg_data = pd.read_csv(reg_path, sep=';')"
   ]
  },
  {
   "cell_type": "code",
   "execution_count": 5,
   "metadata": {},
   "outputs": [],
   "source": [
    "reg_data['reg_ts'] = pd.to_datetime(reg_data['reg_ts'], unit='s').dt.normalize()"
   ]
  },
  {
   "cell_type": "code",
   "execution_count": 6,
   "metadata": {},
   "outputs": [
    {
     "data": {
      "text/plain": [
       "count                          1000000\n",
       "mean     2019-01-24 00:12:37.209599232\n",
       "min                1998-11-18 00:00:00\n",
       "25%                2018-06-03 00:00:00\n",
       "50%                2019-07-30 00:00:00\n",
       "75%                2020-04-01 00:00:00\n",
       "max                2020-09-23 00:00:00\n",
       "Name: reg_ts, dtype: object"
      ]
     },
     "execution_count": 6,
     "metadata": {},
     "output_type": "execute_result"
    }
   ],
   "source": [
    "reg_data.reg_ts.describe(include='all', datetime_is_numeric=True)"
   ]
  },
  {
   "cell_type": "code",
   "execution_count": 7,
   "metadata": {},
   "outputs": [
    {
     "data": {
      "text/plain": [
       "reg_ts    0\n",
       "uid       0\n",
       "dtype: int64"
      ]
     },
     "execution_count": 7,
     "metadata": {},
     "output_type": "execute_result"
    }
   ],
   "source": [
    "reg_data.isna().sum()"
   ]
  },
  {
   "cell_type": "code",
   "execution_count": 8,
   "metadata": {},
   "outputs": [],
   "source": [
    "auth_path = '/mnt/HC_Volume_18315164/home-jupyter/jupyter-aleksandr-halepov--ed929/shared/problem1-auth_data.csv'\n",
    "auth_data = pd.read_csv(auth_path, sep=';')\n",
    "auth_data['auth_ts'] = pd.to_datetime(auth_data['auth_ts'], unit='s').dt.normalize()"
   ]
  },
  {
   "cell_type": "code",
   "execution_count": 9,
   "metadata": {},
   "outputs": [],
   "source": [
    "auth_data.auth_ts.describe(include='all', datetime_is_numeric=True)"
   ]
  },
  {
   "cell_type": "code",
   "execution_count": 11,
   "metadata": {},
   "outputs": [
    {
     "data": {
      "text/plain": [
       "9601013"
      ]
     },
     "execution_count": 11,
     "metadata": {},
     "output_type": "execute_result"
    }
   ],
   "source": [
    "auth_data.shape[0]"
   ]
  },
  {
   "cell_type": "code",
   "execution_count": 12,
   "metadata": {},
   "outputs": [
    {
     "data": {
      "text/plain": [
       "auth_ts    0\n",
       "uid        0\n",
       "dtype: int64"
      ]
     },
     "execution_count": 12,
     "metadata": {},
     "output_type": "execute_result"
    }
   ],
   "source": [
    "auth_data.isna().sum()"
   ]
  },
  {
   "cell_type": "markdown",
   "metadata": {},
   "source": [
    "Важно отметить, что количество строк в датафреймах отличается.\n",
    "Посещений значительно больше чем регистраций, следовательно, пользователи используют наш продукт и скорее всего в датафрейме нет критических ошибок.\n"
   ]
  },
  {
   "cell_type": "markdown",
   "metadata": {},
   "source": [
    "Так как данных очень много, для ускорение работы тестировать функции будем на пользователях, зарегистрировавшихся в мае 2015 года"
   ]
  },
  {
   "cell_type": "code",
   "execution_count": 13,
   "metadata": {},
   "outputs": [],
   "source": [
    "reg_2015 = reg_data.query(\"reg_ts >= '2015-05-01' and reg_ts <= '2015-05-31'\")\n",
    "df = reg_2015.merge(auth_data, on='uid', how='left')"
   ]
  },
  {
   "cell_type": "code",
   "execution_count": 19,
   "metadata": {},
   "outputs": [],
   "source": [
    "def retention_func(df, days=7):\n",
    "    \n",
    "    \"\"\"\n",
    "    Функция рассчитывает уровень удержания пользователей за заданный период времени.\n",
    "    Args:\n",
    "        df : Датафрейм, содержащий данные о пользователях, с обязательными колонками:\n",
    "            - 'auth_ts': Время авторизации пользователя (в формате timestamp)\n",
    "            - 'reg_ts': Время регистрации пользователя (в формате timestamp)\n",
    "            - 'uid': Уникальный идентификатор пользователя\n",
    "        days : Количество целых дней для отслеживания retention. \n",
    "               Если не передавать количество дней, их значение по умолчанию будет = 7.\n",
    "               \n",
    "    Возвращает: сводную таблицу с удержанием пользователей \n",
    "        от даты регистрации до количества дней = days (без нулевого дня)\n",
    "    \n",
    "    Важно!\n",
    "    Нулевой день регистрации исключается из итогового анализа для \n",
    "        упрощения интерпретации и возможности построения визуализации.\n",
    "        \n",
    "    \"\"\"\n",
    "\n",
    "    df['auth_ts'] = pd.to_datetime(df['auth_ts']).dt.normalize()\n",
    "    df['reg_ts'] = pd.to_datetime(df['reg_ts']).dt.normalize()\n",
    "    df['days_from_reg'] = (df['auth_ts'] - df['reg_ts']).dt.days\n",
    "    cohort_users = (\n",
    "        df.groupby('reg_ts', as_index=False)\n",
    "        .agg({'uid': 'nunique'})\n",
    "        .rename(columns={'uid': 'total_users'})\n",
    "    )\n",
    "    retention_df = (\n",
    "        df.groupby(['reg_ts', 'days_from_reg'], as_index=False) \n",
    "        .agg({'uid': 'nunique'}) \n",
    "        .rename(columns={'uid': 'active_users'})\n",
    "    )\n",
    "    retention_df = retention_df.merge(cohort_users, on='reg_ts') \n",
    "    retention_df['retention'] = round((retention_df['active_users'] / retention_df['total_users']) * 100, 2)\n",
    "    retention_df = retention_df[retention_df['days_from_reg'] != 0]\n",
    "    retention_df = retention_df[retention_df['days_from_reg'] <= days]\n",
    "    pivot_retention = retention_df.pivot(\n",
    "        index='reg_ts', \n",
    "        columns='days_from_reg', \n",
    "        values='retention'\n",
    "    ).fillna(0).reset_index()\n",
    "    return pivot_retention\n"
   ]
  },
  {
   "cell_type": "code",
   "execution_count": 20,
   "metadata": {},
   "outputs": [
    {
     "data": {
      "text/html": [
       "<div>\n",
       "<style scoped>\n",
       "    .dataframe tbody tr th:only-of-type {\n",
       "        vertical-align: middle;\n",
       "    }\n",
       "\n",
       "    .dataframe tbody tr th {\n",
       "        vertical-align: top;\n",
       "    }\n",
       "\n",
       "    .dataframe thead th {\n",
       "        text-align: right;\n",
       "    }\n",
       "</style>\n",
       "<table border=\"1\" class=\"dataframe\">\n",
       "  <thead>\n",
       "    <tr style=\"text-align: right;\">\n",
       "      <th>days_from_reg</th>\n",
       "      <th>reg_ts</th>\n",
       "      <th>1</th>\n",
       "      <th>2</th>\n",
       "      <th>3</th>\n",
       "      <th>4</th>\n",
       "      <th>5</th>\n",
       "      <th>6</th>\n",
       "      <th>7</th>\n",
       "    </tr>\n",
       "  </thead>\n",
       "  <tbody>\n",
       "    <tr>\n",
       "      <th>0</th>\n",
       "      <td>2015-05-01</td>\n",
       "      <td>0.00</td>\n",
       "      <td>7.81</td>\n",
       "      <td>7.81</td>\n",
       "      <td>6.25</td>\n",
       "      <td>4.69</td>\n",
       "      <td>9.38</td>\n",
       "      <td>9.38</td>\n",
       "    </tr>\n",
       "    <tr>\n",
       "      <th>1</th>\n",
       "      <td>2015-05-02</td>\n",
       "      <td>1.56</td>\n",
       "      <td>1.56</td>\n",
       "      <td>3.12</td>\n",
       "      <td>10.94</td>\n",
       "      <td>7.81</td>\n",
       "      <td>6.25</td>\n",
       "      <td>6.25</td>\n",
       "    </tr>\n",
       "    <tr>\n",
       "      <th>2</th>\n",
       "      <td>2015-05-03</td>\n",
       "      <td>0.00</td>\n",
       "      <td>10.77</td>\n",
       "      <td>6.15</td>\n",
       "      <td>4.62</td>\n",
       "      <td>6.15</td>\n",
       "      <td>9.23</td>\n",
       "      <td>3.08</td>\n",
       "    </tr>\n",
       "    <tr>\n",
       "      <th>3</th>\n",
       "      <td>2015-05-04</td>\n",
       "      <td>7.81</td>\n",
       "      <td>9.38</td>\n",
       "      <td>3.12</td>\n",
       "      <td>4.69</td>\n",
       "      <td>1.56</td>\n",
       "      <td>9.38</td>\n",
       "      <td>9.38</td>\n",
       "    </tr>\n",
       "    <tr>\n",
       "      <th>4</th>\n",
       "      <td>2015-05-05</td>\n",
       "      <td>3.08</td>\n",
       "      <td>6.15</td>\n",
       "      <td>7.69</td>\n",
       "      <td>7.69</td>\n",
       "      <td>12.31</td>\n",
       "      <td>4.62</td>\n",
       "      <td>6.15</td>\n",
       "    </tr>\n",
       "  </tbody>\n",
       "</table>\n",
       "</div>"
      ],
      "text/plain": [
       "days_from_reg     reg_ts     1      2     3      4      5     6     7\n",
       "0             2015-05-01  0.00   7.81  7.81   6.25   4.69  9.38  9.38\n",
       "1             2015-05-02  1.56   1.56  3.12  10.94   7.81  6.25  6.25\n",
       "2             2015-05-03  0.00  10.77  6.15   4.62   6.15  9.23  3.08\n",
       "3             2015-05-04  7.81   9.38  3.12   4.69   1.56  9.38  9.38\n",
       "4             2015-05-05  3.08   6.15  7.69   7.69  12.31  4.62  6.15"
      ]
     },
     "execution_count": 20,
     "metadata": {},
     "output_type": "execute_result"
    }
   ],
   "source": [
    "pivot_retention = retention_func(df)\n",
    "pivot_retention.head()"
   ]
  },
  {
   "cell_type": "markdown",
   "metadata": {},
   "source": [
    "# Визуализация RT"
   ]
  },
  {
   "cell_type": "markdown",
   "metadata": {},
   "source": [
    "Для поиска каких-либо аномалий в наших данных визуализируем таблицу"
   ]
  },
  {
   "cell_type": "code",
   "execution_count": 21,
   "metadata": {},
   "outputs": [],
   "source": [
    "def retention_heatmap(pivot_df, title=\"Retention\"):\n",
    "    \n",
    "    \"\"\"\n",
    "    Функция визуализирует удержание пользователей для последующего анализа.\n",
    "    \n",
    "    Args:\n",
    "        pivot_df: сводная таблица полученная функцией \"def retention_func(df, days=7)\"\n",
    "        title: необязательный аргумент, \n",
    "            по умолчанию выводит название нашей метрики \"Retention\", \n",
    "    \n",
    "    Возвращает визуалицию удержание с помощью heatmap.\n",
    "    \n",
    "    * В случае построения нескольких визуализаций с разными значениями \n",
    "        рекомендуется передавать отличительные черты в \"title\".\n",
    "    \n",
    "    \"\"\"\n",
    "    \n",
    "    plt.figure(figsize=(12, 8))\n",
    "    pivot_df['reg_ts'] = pivot_df['reg_ts'].dt.strftime('%Y-%m-%d')\n",
    "    ax = sns.heatmap(\n",
    "        pivot_df.set_index('reg_ts'), \n",
    "        annot=True,                      \n",
    "        fmt=\".1f\",                       \n",
    "        cmap=\"YlGnBu\",                   \n",
    "        linewidths=0.5,              \n",
    "        cbar_kws={\"label\": \"Retention (%)\"}\n",
    "    )\n",
    "    ax.xaxis.tick_top()\n",
    "    ax.xaxis.set_label_position('top')\n",
    "    plt.title(title, fontsize=16, pad=20)\n",
    "    plt.xlabel(\"Days from Registration\", fontsize=12)\n",
    "    plt.ylabel(\"Registration Date\", fontsize=12)\n",
    "    plt.yticks(rotation=0)\n",
    "    plt.tight_layout()\n",
    "    plt.show()"
   ]
  },
  {
   "cell_type": "code",
   "execution_count": 22,
   "metadata": {},
   "outputs": [
    {
     "data": {
      "image/png": "[encoded data removed]",
      "text/plain": [
       "<Figure size 864x576 with 2 Axes>"
      ]
     },
     "metadata": {
      "needs_background": "light"
     },
     "output_type": "display_data"
    }
   ],
   "source": [
    "rt_plot = retention_heatmap(pivot_retention)\n",
    "rt_plot"
   ]
  },
  {
   "cell_type": "markdown",
   "metadata": {},
   "source": [
    "# Задание 2"
   ]
  },
  {
   "cell_type": "markdown",
   "metadata": {},
   "source": [
    "Имеются результаты A/B теста, в котором двум группам пользователей предлагались различные наборы акционных предложений. Известно, что ARPU в тестовой группе выше на 5%, чем в контрольной. При этом в контрольной группе 1928 игроков из 202103 оказались платящими, а в тестовой – 1805 из 202667.\n",
    "\n",
    "Какой набор предложений можно считать лучшим? Какие метрики стоит проанализировать для принятия правильного решения и как?"
   ]
  },
  {
   "cell_type": "code",
   "execution_count": 4,
   "metadata": {},
   "outputs": [],
   "source": [
    "task2_path = '/mnt/HC_Volume_18315164/home-jupyter/jupyter-aleksandr-halepov--ed929/shared/problem2.csv'\n",
    "ab_df = pd.read_csv(task2_path, sep=';')"
   ]
  },
  {
   "cell_type": "markdown",
   "metadata": {},
   "source": [
    "Проведём предобработку и визуализируем данные"
   ]
  },
  {
   "cell_type": "code",
   "execution_count": 25,
   "metadata": {},
   "outputs": [
    {
     "data": {
      "text/plain": [
       "404770"
      ]
     },
     "execution_count": 25,
     "metadata": {},
     "output_type": "execute_result"
    }
   ],
   "source": [
    "ab_df.shape[0]"
   ]
  },
  {
   "cell_type": "code",
   "execution_count": 26,
   "metadata": {},
   "outputs": [
    {
     "data": {
      "text/plain": [
       "user_id      0\n",
       "revenue      0\n",
       "testgroup    0\n",
       "dtype: int64"
      ]
     },
     "execution_count": 26,
     "metadata": {},
     "output_type": "execute_result"
    }
   ],
   "source": [
    "ab_df.isna().sum()"
   ]
  },
  {
   "cell_type": "code",
   "execution_count": 5,
   "metadata": {},
   "outputs": [
    {
     "data": {
      "text/html": [
       "<div>\n",
       "<style scoped>\n",
       "    .dataframe tbody tr th:only-of-type {\n",
       "        vertical-align: middle;\n",
       "    }\n",
       "\n",
       "    .dataframe tbody tr th {\n",
       "        vertical-align: top;\n",
       "    }\n",
       "\n",
       "    .dataframe thead th {\n",
       "        text-align: right;\n",
       "    }\n",
       "</style>\n",
       "<table border=\"1\" class=\"dataframe\">\n",
       "  <thead>\n",
       "    <tr style=\"text-align: right;\">\n",
       "      <th></th>\n",
       "      <th>user_id</th>\n",
       "      <th>revenue</th>\n",
       "    </tr>\n",
       "  </thead>\n",
       "  <tbody>\n",
       "    <tr>\n",
       "      <th>count</th>\n",
       "      <td>404770.000000</td>\n",
       "      <td>404770.000000</td>\n",
       "    </tr>\n",
       "    <tr>\n",
       "      <th>mean</th>\n",
       "      <td>202385.500000</td>\n",
       "      <td>26.083435</td>\n",
       "    </tr>\n",
       "    <tr>\n",
       "      <th>std</th>\n",
       "      <td>116847.178567</td>\n",
       "      <td>681.652928</td>\n",
       "    </tr>\n",
       "    <tr>\n",
       "      <th>min</th>\n",
       "      <td>1.000000</td>\n",
       "      <td>0.000000</td>\n",
       "    </tr>\n",
       "    <tr>\n",
       "      <th>25%</th>\n",
       "      <td>101193.250000</td>\n",
       "      <td>0.000000</td>\n",
       "    </tr>\n",
       "    <tr>\n",
       "      <th>50%</th>\n",
       "      <td>202385.500000</td>\n",
       "      <td>0.000000</td>\n",
       "    </tr>\n",
       "    <tr>\n",
       "      <th>75%</th>\n",
       "      <td>303577.750000</td>\n",
       "      <td>0.000000</td>\n",
       "    </tr>\n",
       "    <tr>\n",
       "      <th>max</th>\n",
       "      <td>404770.000000</td>\n",
       "      <td>37433.000000</td>\n",
       "    </tr>\n",
       "  </tbody>\n",
       "</table>\n",
       "</div>"
      ],
      "text/plain": [
       "             user_id        revenue\n",
       "count  404770.000000  404770.000000\n",
       "mean   202385.500000      26.083435\n",
       "std    116847.178567     681.652928\n",
       "min         1.000000       0.000000\n",
       "25%    101193.250000       0.000000\n",
       "50%    202385.500000       0.000000\n",
       "75%    303577.750000       0.000000\n",
       "max    404770.000000   37433.000000"
      ]
     },
     "execution_count": 5,
     "metadata": {},
     "output_type": "execute_result"
    }
   ],
   "source": [
    "ab_df.describe()"
   ]
  },
  {
   "cell_type": "code",
   "execution_count": 30,
   "metadata": {},
   "outputs": [
    {
     "data": {
      "text/plain": [
       "404770"
      ]
     },
     "execution_count": 30,
     "metadata": {},
     "output_type": "execute_result"
    }
   ],
   "source": [
    "ab_df.user_id.nunique()"
   ]
  },
  {
   "cell_type": "markdown",
   "metadata": {},
   "source": [
    "Важно отметить, что каждый пользователь в изначальном дф уникален, то есть выборки состоят из полностью разных групп людей."
   ]
  },
  {
   "cell_type": "code",
   "execution_count": 134,
   "metadata": {},
   "outputs": [
    {
     "data": {
      "text/plain": [
       "0       401037\n",
       "206         18\n",
       "310         18\n",
       "265         17\n",
       "224         17\n",
       "         ...  \n",
       "2934         1\n",
       "2166         1\n",
       "3447         1\n",
       "2679         1\n",
       "3838         1\n",
       "Name: revenue, Length: 1477, dtype: int64"
      ]
     },
     "execution_count": 134,
     "metadata": {},
     "output_type": "execute_result"
    }
   ],
   "source": [
    "ab_df.revenue.value_counts()"
   ]
  },
  {
   "cell_type": "markdown",
   "metadata": {},
   "source": [
    "## Приступим к анализу."
   ]
  },
  {
   "cell_type": "markdown",
   "metadata": {},
   "source": [
    "Цель нашего анализа - выявить самую выгодную группу.\n",
    "\n",
    "Для этого выдвинем гипотезы:\n",
    "* H0 - Не произошло статистически значимых изменений и контрольная группа обладает более выгодными предложениями.\n",
    "* H1 - Изменение метрик стат значимо и тестовая группа лучше."
   ]
  },
  {
   "cell_type": "markdown",
   "metadata": {},
   "source": [
    "Ключевые метрики нашего анализа: \n",
    "* Conversion - по предварительному анализу заметно, что в общем датафрейме очень много не платящих клиентов, поэтому важно отследить конверсию в разбивке по группам.\n",
    "* ARPU - средняя выручка с пользователя, мы имеем данные по APRU, но разница между группами на первый взгляд несущественная, поэтому нужно проверить стат значимость.\n",
    "* ARPPU - как уже было сказано ранее, количество платящих клиентов очень маленькое, поэтому ARPU не отражает всей ситуации. Например из-за большой разницы размера групп, отличие ARPU у них может быть очень маленькое, но ARPPU может значительно отличаться."
   ]
  },
  {
   "cell_type": "code",
   "execution_count": null,
   "metadata": {},
   "outputs": [],
   "source": [
    "# создадим переменные для улучшения читаемости\n",
    "a_buyers = ab_df.query('(testgroup == \"a\") & (revenue != 0)').revenue.count()\n",
    "a_all = ab_df.query('testgroup == \"a\"').revenue.count()\n",
    "b_buyers = ab_df.query('(testgroup == \"b\") & (revenue != 0)').revenue.count()\n",
    "b_all = ab_df.query('testgroup == \"b\"').revenue.count()"
   ]
  },
  {
   "cell_type": "code",
   "execution_count": 135,
   "metadata": {},
   "outputs": [
    {
     "data": {
      "text/plain": [
       "0.95"
      ]
     },
     "execution_count": 135,
     "metadata": {},
     "output_type": "execute_result"
    }
   ],
   "source": [
    "# конверсия контрольной группы\n",
    "control_cr = round(a_buyers / a_all * 100, 2) \n",
    "control_cr"
   ]
  },
  {
   "cell_type": "code",
   "execution_count": 136,
   "metadata": {},
   "outputs": [
    {
     "data": {
      "text/plain": [
       "0.89"
      ]
     },
     "execution_count": 136,
     "metadata": {},
     "output_type": "execute_result"
    }
   ],
   "source": [
    "# конверсия тестовой группы\n",
    "test_cr = round(b_buyers / b_all * 100, 2) \n",
    "test_cr"
   ]
  },
  {
   "cell_type": "markdown",
   "metadata": {},
   "source": [
    "Как и оказалось конверсия у обоих групп маленькая и обладает небольшой разницей.\n",
    "Поэтому воспользуемся критерием Хи-квадрат для выявления наличия или отсутствия стат значимости. \n"
   ]
  },
  {
   "cell_type": "markdown",
   "metadata": {},
   "source": [
    "Мы можем воспользоваться Хи-квадратов только если соблюдаются условия к его использованию:\n",
    "\n",
    "    1) Все наблюдения не зависимы\n",
    "\n",
    "    2) Количество наблюдений > 10"
   ]
  },
  {
   "cell_type": "code",
   "execution_count": 137,
   "metadata": {},
   "outputs": [
    {
     "data": {
      "text/plain": [
       "purchases_cnt\n",
       "1                404770\n",
       "dtype: int64"
      ]
     },
     "execution_count": 137,
     "metadata": {},
     "output_type": "execute_result"
    }
   ],
   "source": [
    "# Проверим сколько покупок было у каждого пользователя\n",
    "ab_df.groupby('user_id') \\\n",
    "    .agg({\"revenue\": 'count'}) \\\n",
    "    .rename(columns={'revenue': 'purchases_cnt'}) \\\n",
    "    .value_counts()"
   ]
  },
  {
   "cell_type": "markdown",
   "metadata": {},
   "source": [
    "Таким образом мы точно убедились, что все пользователи делали только одну покупку и данные независимы по этому показателю, и так же мы знаем из условия, что сами наборы предложений в группах отличаются. Помимо этого, требование к кол-ву наблюдений тоже соблюдается."
   ]
  },
  {
   "cell_type": "markdown",
   "metadata": {},
   "source": [
    "## Хи-квадрат"
   ]
  },
  {
   "cell_type": "code",
   "execution_count": 138,
   "metadata": {},
   "outputs": [
    {
     "name": "stdout",
     "output_type": "stream",
     "text": [
      "В контрольной группе : 1928 пользователей совершили покупку из 202103 пользователей.\n",
      "В тестовой группе : 1805 пользователей совершили покупку из 202667 пользователей.\n"
     ]
    }
   ],
   "source": [
    "# посчитаем кол-во платяших и всех юзеров в группах\n",
    "с_users = ab_df.query('(testgroup == \"a\") & (revenue != 0)').revenue.count()\n",
    "c_all_users = ab_df.query('testgroup == \"a\"').revenue.count()\n",
    "t_users = ab_df.query('(testgroup == \"b\") & (revenue != 0)').revenue.count()\n",
    "t_all_users = ab_df.query('testgroup == \"b\"').revenue.count()\n",
    "print(f\"В контрольной группе : {с_users} пользователей совершили покупку из {c_all_users} пользователей.\")\n",
    "print(f\"В тестовой группе : {t_users} пользователей совершили покупку из {t_all_users} пользователей.\")"
   ]
  },
  {
   "cell_type": "code",
   "execution_count": 139,
   "metadata": {},
   "outputs": [
    {
     "name": "stdout",
     "output_type": "stream",
     "text": [
      "Таблица сопряженности\n",
      "[[  1928 202103]\n",
      " [  1805 202667]]\n"
     ]
    }
   ],
   "source": [
    "cross_control = [1928, 202103]\n",
    "cross_test = [1805, 202667]\n",
    "crosstab = np.array([cross_control, cross_test])\n",
    "print(\"Таблица сопряженности\")\n",
    "print(crosstab)"
   ]
  },
  {
   "cell_type": "code",
   "execution_count": 140,
   "metadata": {},
   "outputs": [
    {
     "name": "stdout",
     "output_type": "stream",
     "text": [
      "Chi-square statistic: 4.294148751290091\n",
      "P-value: 0.03824373651044168\n",
      "Degrees of freedom: 1\n",
      "Expected frequencies:\n",
      "[[  1864.48501725 202166.51498275]\n",
      " [  1868.51498275 202603.48501725]]\n"
     ]
    }
   ],
   "source": [
    "chi2, p_value, dof, expected = chi2_contingency(crosstab)\n",
    "print(f\"Chi-square statistic: {chi2}\")\n",
    "print(f\"P-value: {p_value}\")\n",
    "print(f\"Degrees of freedom: {dof}\")\n",
    "print(\"Expected frequencies:\")\n",
    "print(expected)\n"
   ]
  },
  {
   "cell_type": "markdown",
   "metadata": {},
   "source": [
    "Мы получили p-value < 0.05, следовательно разница в конверсии стат значимая. Так же напомним, что выше она в контрольной группе."
   ]
  },
  {
   "cell_type": "markdown",
   "metadata": {},
   "source": [
    "## Анализируем ARPU"
   ]
  },
  {
   "cell_type": "markdown",
   "metadata": {},
   "source": [
    "Для начала взглянем на распределение выручки по группам."
   ]
  },
  {
   "cell_type": "code",
   "execution_count": 4,
   "metadata": {},
   "outputs": [],
   "source": [
    "# отделим группы в разные дф\n",
    "control = ab_df.query(\"testgroup =='a'\")\n",
    "test = ab_df.query(\"testgroup =='b'\")"
   ]
  },
  {
   "cell_type": "code",
   "execution_count": 142,
   "metadata": {},
   "outputs": [
    {
     "data": {
      "image/png": "[encoded data removed]",
      "text/plain": [
       "<Figure size 864x288 with 2 Axes>"
      ]
     },
     "metadata": {
      "needs_background": "light"
     },
     "output_type": "display_data"
    }
   ],
   "source": [
    "# сравниваем распределения\n",
    "fig, ax = plt.subplots(1, 2, figsize=(12, 4))\n",
    "sns.kdeplot(control.revenue, ax=ax[0], color='blue')\n",
    "ax[0].set_title('Control Distribution')\n",
    "\n",
    "sns.kdeplot(test.revenue, ax=ax[1], color='brown')\n",
    "ax[1].set_title('Test Distribution')\n",
    "\n",
    "plt.tight_layout()  \n",
    "plt.show()  \n"
   ]
  },
  {
   "cell_type": "code",
   "execution_count": 10,
   "metadata": {},
   "outputs": [
    {
     "data": {
      "text/plain": [
       "count    202103.000000\n",
       "mean         25.413720\n",
       "std         920.768137\n",
       "min           0.000000\n",
       "25%           0.000000\n",
       "50%           0.000000\n",
       "75%           0.000000\n",
       "max       37433.000000\n",
       "Name: revenue, dtype: float64"
      ]
     },
     "execution_count": 10,
     "metadata": {},
     "output_type": "execute_result"
    }
   ],
   "source": [
    "# описательная статистика\n",
    "control.revenue.describe()"
   ]
  },
  {
   "cell_type": "code",
   "execution_count": 11,
   "metadata": {},
   "outputs": [
    {
     "data": {
      "text/plain": [
       "count    202667.000000\n",
       "mean         26.751287\n",
       "std         287.324162\n",
       "min           0.000000\n",
       "25%           0.000000\n",
       "50%           0.000000\n",
       "75%           0.000000\n",
       "max        4000.000000\n",
       "Name: revenue, dtype: float64"
      ]
     },
     "execution_count": 11,
     "metadata": {},
     "output_type": "execute_result"
    }
   ],
   "source": [
    "test.revenue.describe()"
   ]
  },
  {
   "cell_type": "markdown",
   "metadata": {},
   "source": [
    "Распределение групп ненормально. Каким статистическим тестом стоит воспользоваться? Хоть мы и можем в теории воспользоваться T-тестом так как наша выборка большая, из-за большого стандартного отклонения, выбросов в данных, шанс ошибки 1 рода сильно увеличивается. U-тест Манна-Уитни имел бы место быть, но он сложен в интерпретации и не гарантирует уменьшения шанса ошибки 1 рода. Лучшим вариантом будет воспользоваться bootstrap так как он менее чувствителен к выбросом, а значит и обнаружить стат значимость там где её нет, сложнее.\n",
    "\n",
    "\n",
    "\n",
    "\n"
   ]
  },
  {
   "cell_type": "markdown",
   "metadata": {},
   "source": [
    "# Bootstrap для ARPU"
   ]
  },
  {
   "cell_type": "code",
   "execution_count": 5,
   "metadata": {},
   "outputs": [
    {
     "name": "stdout",
     "output_type": "stream",
     "text": [
      "Доверительный интервал для среднего: [21.55 29.33]\n"
     ]
    }
   ],
   "source": [
    "ci0 = pingouin.compute_bootci(control.revenue, func='mean', n_boot=2000, confidence=0.95)\n",
    "print(f\"Доверительный интервал для среднего: {ci0}\")\n"
   ]
  },
  {
   "cell_type": "code",
   "execution_count": 6,
   "metadata": {},
   "outputs": [
    {
     "name": "stdout",
     "output_type": "stream",
     "text": [
      "Доверительный интервал для среднего тестовой группы: [25.53 27.98]\n"
     ]
    }
   ],
   "source": [
    "ci1 = pingouin.compute_bootci(test.revenue, func='mean', n_boot=2000, confidence=0.95)\n",
    "print(f\"Доверительный интервал для среднего тестовой группы: {ci1}\")\n"
   ]
  },
  {
   "cell_type": "markdown",
   "metadata": {},
   "source": [
    "Так как доверительные интервалы пересекаются, статистической значимости в разнице нет."
   ]
  },
  {
   "cell_type": "markdown",
   "metadata": {},
   "source": [
    "Так же рассмотрим ARPPU."
   ]
  },
  {
   "cell_type": "code",
   "execution_count": 5,
   "metadata": {},
   "outputs": [],
   "source": [
    "# собираем группы без нулей\n",
    "profitable_users = ab_df.query('revenue != 0')\n",
    "control_pr = profitable_users.query(\"testgroup =='a'\")\n",
    "test_pr = profitable_users.query(\"testgroup =='b'\")"
   ]
  },
  {
   "cell_type": "code",
   "execution_count": 144,
   "metadata": {},
   "outputs": [
    {
     "data": {
      "image/png": "[encoded data removed]",
      "text/plain": [
       "<Figure size 432x288 with 1 Axes>"
      ]
     },
     "metadata": {
      "needs_background": "light"
     },
     "output_type": "display_data"
    }
   ],
   "source": [
    "# смотрим распределение групп\n",
    "sns.kdeplot(data=profitable_users, x='revenue', hue='testgroup', fill=True)\n",
    "plt.show()\n"
   ]
  },
  {
   "cell_type": "code",
   "execution_count": 6,
   "metadata": {},
   "outputs": [
    {
     "data": {
      "text/plain": [
       "count     1928.000000\n",
       "mean      2663.998444\n",
       "std       9049.039763\n",
       "min        200.000000\n",
       "25%        257.000000\n",
       "50%        311.000000\n",
       "75%        361.000000\n",
       "max      37433.000000\n",
       "Name: revenue, dtype: float64"
      ]
     },
     "execution_count": 6,
     "metadata": {},
     "output_type": "execute_result"
    }
   ],
   "source": [
    "control_pr.revenue.describe()"
   ]
  },
  {
   "cell_type": "code",
   "execution_count": 7,
   "metadata": {},
   "outputs": [
    {
     "data": {
      "text/plain": [
       "count    1805.000000\n",
       "mean     3003.658172\n",
       "std       572.619709\n",
       "min      2000.000000\n",
       "25%      2513.000000\n",
       "50%      3022.000000\n",
       "75%      3478.000000\n",
       "max      4000.000000\n",
       "Name: revenue, dtype: float64"
      ]
     },
     "execution_count": 7,
     "metadata": {},
     "output_type": "execute_result"
    }
   ],
   "source": [
    "test_pr.revenue.describe()"
   ]
  },
  {
   "cell_type": "markdown",
   "metadata": {},
   "source": [
    "Распределение снова ненормально и std ещё более широкое. Тут тоже придётся воспользоваться бутстрепом. "
   ]
  },
  {
   "cell_type": "markdown",
   "metadata": {},
   "source": [
    "# Bootstrap для ARPPU"
   ]
  },
  {
   "cell_type": "code",
   "execution_count": 9,
   "metadata": {},
   "outputs": [
    {
     "name": "stdout",
     "output_type": "stream",
     "text": [
      "Доверительный интервал для среднего: [2279.27 3068.53]\n"
     ]
    }
   ],
   "source": [
    "control_ci = pingouin.compute_bootci(control_pr.revenue, func='mean', n_boot=2000, confidence=0.95)\n",
    "print(f\"Доверительный интервал для среднего: {control_ci}\")"
   ]
  },
  {
   "cell_type": "code",
   "execution_count": 10,
   "metadata": {},
   "outputs": [
    {
     "name": "stdout",
     "output_type": "stream",
     "text": [
      "Доверительный интервал для среднего тестовой группы: [2976.61 3028.71]\n"
     ]
    }
   ],
   "source": [
    "test_ci = pingouin.compute_bootci(test_pr.revenue, func='mean', n_boot=2000, confidence=0.95)\n",
    "print(f\"Доверительный интервал для среднего тестовой группы: {test_ci}\")\n"
   ]
  },
  {
   "cell_type": "markdown",
   "metadata": {},
   "source": [
    "Интервалы снова пересекаются, стат значимости в разнице ARPPU нет."
   ]
  },
  {
   "cell_type": "markdown",
   "metadata": {},
   "source": [
    "Вывод: Мы подтвердили нулевую гипотезу, но не стоит однозначно заявлять, что тестовая группа оказалась провальной. Распределение данных далеко от нормального, возможно сплитование проведено некорректно и дизайн эксперимента нарушен."
   ]
  },
  {
   "cell_type": "markdown",
   "metadata": {},
   "source": [
    "**Ответ**: Необходимо проведение повторного эксперимента для корректной оценки успешности тестового продукта."
   ]
  },
  {
   "cell_type": "markdown",
   "metadata": {},
   "source": [
    "# Задание 3"
   ]
  },
  {
   "cell_type": "markdown",
   "metadata": {},
   "source": [
    "# Основные метрики определяющие успех события."
   ]
  },
  {
   "cell_type": "markdown",
   "metadata": {},
   "source": [
    "# * Conversion rate\n",
    "Конверсию мы будем рассматривать в воронке события. Она начинается с прохождения первого уровня ивента и заканчивается полным его прохождением.\n",
    "Главная цель - увеличивать конверсию в целевое действие в сравнении с событиями прошлых месяцев. Целевым действием считается полное прохождение ивента пользователем.\n",
    "\n",
    "Так же показатель относительной конверсии влияет на оценку успешности. Относительная конверсия показывает какой процент людей отваливается от каждого следующего действия. В идеале, конверсия между прохождением первого уровня и второго должна быть высокой и превышать конверсию ивентов прошлых месяцев - в противном случае это будет значить, что ивент показался пользователям неинтересным и они отвалились в самом начале воронки. "
   ]
  },
  {
   "cell_type": "markdown",
   "metadata": {},
   "source": [
    " # * Retention\n",
    " \n",
    "Помимо конверсии важно следить за удержанием, так как ограничение события по времени может с разной силой влиять на удержание.\n",
    "Например, общий быстрый рост удержания среди большинства клиентов в первые дни события может обуславливаться тем, что событие ограничено одной неделей, но уровни открываются не по одному каждый день, а все сразу. Тогда пользователи просто могут пройти все уровни за один день и больше не заходить весь ивент. В зависимости от целей нашей компании можно манипулировать уровнями так, чтобы выйти на желаемый retention. Вариант в которым клиент невынужден заходить в игру каждый день для получения наград скорее всего не будет желаемым, так как у пользователей не так сильно будет развиваться привычка заходить в нашу игру, как могла бы в случае ежедневных уровней.\n",
    "\n",
    "Также отслеживаем изменение динамики посещения игры клиентами зарегистрировавшимися до события. Здесь можно углубиться и разбить пользователей на когорты по количеству дней в которые они заходили в продукт. Если очень условно делить, то есть клиенты которые пользуются продуктом очень длительное время, например - больше года, и те клиенты, которые играют непродолжительное время, допустим от 2 месяца и до года. Их удержанием может иметь весомое различие, хоть и общая динамика будет иметь сильно выраженный \n",
    "тренд.\n",
    "\n",
    "*Рассмотрим возможный кейс.*\n",
    "\n",
    "    Игроки с большим стажем показывают очень хорошее удержание, но новые пользователи наоборот перестают играть и заходить в приложение.\n",
    "    \n",
    "Почему такое может случиться? Возможно, тематическое событие было ремейком уже случавшегося ранее события (например 1 год назад). Старые пользователи испытывают ностальгию и активно играют в подобие прошлого удачного ивента.\n",
    "В то же время новые пользователи не имеют такой предвзятости и событие может не понравиться им по множеству причин. Например, дизайн наград сильно отличается от предыдущего события (выглядит менее детализировано).\n",
    "\n",
    "*Почему это важно отслеживать?*\n",
    "\n",
    "Размер когорт может довольно сильно отличаться, а может быть примерно равным.\n",
    "В случае если в одной когорте сильно больше игроков, то их влияние на общий retention будет ключевым и мы можем потерять недовольства меньшей части клиентов. А они хоть и представляют численное меньшинство, но в то же время они могут оказаться более прибыльными клиентами, их LTV (lifetime value) значительно больше чем у другой группы или в среднем они покупают больше внутриигровой валюты (или любого другого внутриигрового контента за деньги), а событие не только будет иметь низкое удержание у них, но и из-за неудовлетворенности событием они могут и вовсе перестать играть. Следовательно, потерять таких клиентов - упустить существенную прибыль\n"
   ]
  },
  {
   "cell_type": "markdown",
   "metadata": {},
   "source": [
    "# * ARPU (Average revenue per user)\n",
    "Динамика среднего чека является важным показателем успешности события. Так как ряд причин должен влиять на динамику затрат клиентов на игру\n",
    "\n",
    "Идейно, пользователи стремятся заполучить уникальные предметы, возможно не все из них являются гарантийными для получения во время события (обладают низким шансом на выпадение). В таком случае игроки хотят заполучить себе предмет и донатят (покупают внутриигровую валюту и тп.)\n",
    "\n",
    "Также не все пользователи смогут поучаствовать в событии с первого дня, а раз время на прохождение события ограничено, то будут  люди, желающие пропустить уровни и получить награды.\n",
    "\n",
    "Полученные бонусы за прохождение ивента могут стимулировать пользователей тратить деньги. Например, заполучив красивую теплицу для сада клиент захочет украсить свой сад большим количеством аксессуаров.\n"
   ]
  },
  {
   "cell_type": "markdown",
   "metadata": {},
   "source": [
    "# * Средняя дневная аудитория\n",
    "Нас интересует динамика средней дневной аудитории за неделю события и ее сравнение с обычными неделями и с неделями прошлых событий, чем больше дневная аудитория - тем успешней наш продукт."
   ]
  },
  {
   "cell_type": "markdown",
   "metadata": {},
   "source": [
    "# Сценарий усложения события"
   ]
  },
  {
   "cell_type": "markdown",
   "metadata": {},
   "source": [
    "*  *В случае если прогресс пользователя будет откатываться на несколько уровней назад, набор наших метрик и их порядок изменится.*"
   ]
  },
  {
   "cell_type": "markdown",
   "metadata": {},
   "source": [
    " В нашем кейсе отток клиентов является ключевой метрикой. Под оттоком в этом контексте понимается неполное прохождение ивента игроком на конец события (пользователи начали проходить уровни, но по каким-либо причинам не прошли его). \n",
    "Так как увеличение уровня сложности может иметь как позитивный, так и очень негативный эффект на эту метрику, поэтому очень важно отслеживать ее в первую очередь.\n",
    "\n",
    "Варианты развития событий:\n",
    "* Пользователи столкнулись с трудностью в прохождении уровней и перестали проходить уровни.\n",
    "\n",
    "\n",
    "* Пользователи столкнулись с трудностью в прохождении уровней, но метрики CR И RT, и другие, наоборот, показывают отличные результаты.\n",
    "\n",
    "Почему такое может возникнуть?\n",
    "Запрос пользователя бывает разным, кого-то пугает сложность, а кто-то воодушевляется перед испытанием.\n",
    "Главное реализовать сложность таким образом, чтобы она не отталкивала игроков, а заставляла прилагать усилия. Далее дополним этот же анализ другими метриками\n"
   ]
  },
  {
   "cell_type": "markdown",
   "metadata": {},
   "source": [
    "# * Количество попыток\n",
    "С изменениями появляется новая метрика - количество затраченных попыток на прохождение отдельного уровня.\n",
    "Тут важно выстроить правильную методику расчета, так как по условию в случае невыполнения уровня, игрока откидывает на несколько уровней назад. Будем считать количеством попыток на прохождение уровня - количество уникальных попыток затраченных на прохождение отдельного уровня пользователем **впервые**. В случае если пользователь не смог пройти 8 уровень и его откинуло на 6 уровень, то попытки затраченные на повторное прохождение 6 и 7 уровня считаться не будут.\n",
    "\n",
    "Это важно, потому что при анализе причин оттока клиентов из воронки на каком-либо этапе вполне можно обнаружить, что большое количество отпавших пользователей имели много попыток прохождения на, например, 8 уровне и просто сдались.\n",
    "Тут будет уместен разговор о чересчур высокой сложности именно этого уровня, а не всего события. В противном случае можно было бы просто в будущем делать события проще, но это не обязательно бы отражало потребности игроков."
   ]
  },
  {
   "cell_type": "markdown",
   "metadata": {},
   "source": [
    "ARPU не стоит включать для оценки успешности, так как усложнение событий - тестовый проект. В нём большую роль играет не прибыль, а изменение динамики таких метрик как conversion, retention так как они показывают заинтересованность пользователей к измененному формату."
   ]
  }
 ],
 "metadata": {
  "kernelspec": {
   "display_name": "Python 3 (ipykernel)",
   "language": "python",
   "name": "python3"
  },
  "language_info": {
   "codemirror_mode": {
    "name": "ipython",
    "version": 3
   },
   "file_extension": ".py",
   "mimetype": "text/x-python",
   "name": "python",
   "nbconvert_exporter": "python",
   "pygments_lexer": "ipython3",
   "version": "3.11.9"
  }
 },
 "nbformat": 4,
 "nbformat_minor": 4
}
